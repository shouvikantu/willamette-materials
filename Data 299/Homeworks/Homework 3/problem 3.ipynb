{
 "cells": [
  {
   "cell_type": "code",
   "execution_count": 1,
   "metadata": {},
   "outputs": [],
   "source": [
    "import numpy as np\n",
    "import pandas as pd\n",
    "import matplotlib.pyplot as plt\n",
    "from scipy.optimize import minimize"
   ]
  },
  {
   "cell_type": "code",
   "execution_count": 2,
   "metadata": {},
   "outputs": [
    {
     "data": {
      "text/html": [
       "<div>\n",
       "<style scoped>\n",
       "    .dataframe tbody tr th:only-of-type {\n",
       "        vertical-align: middle;\n",
       "    }\n",
       "\n",
       "    .dataframe tbody tr th {\n",
       "        vertical-align: top;\n",
       "    }\n",
       "\n",
       "    .dataframe thead th {\n",
       "        text-align: right;\n",
       "    }\n",
       "</style>\n",
       "<table border=\"1\" class=\"dataframe\">\n",
       "  <thead>\n",
       "    <tr style=\"text-align: right;\">\n",
       "      <th></th>\n",
       "      <th>time_sec</th>\n",
       "      <th>rad_vel</th>\n",
       "    </tr>\n",
       "  </thead>\n",
       "  <tbody>\n",
       "    <tr>\n",
       "      <th>0</th>\n",
       "      <td>0</td>\n",
       "      <td>-74.859265</td>\n",
       "    </tr>\n",
       "    <tr>\n",
       "      <th>1</th>\n",
       "      <td>25000</td>\n",
       "      <td>-64.826428</td>\n",
       "    </tr>\n",
       "    <tr>\n",
       "      <th>2</th>\n",
       "      <td>50000</td>\n",
       "      <td>-54.936557</td>\n",
       "    </tr>\n",
       "    <tr>\n",
       "      <th>3</th>\n",
       "      <td>75000</td>\n",
       "      <td>-45.938719</td>\n",
       "    </tr>\n",
       "    <tr>\n",
       "      <th>4</th>\n",
       "      <td>100000</td>\n",
       "      <td>-38.469294</td>\n",
       "    </tr>\n",
       "  </tbody>\n",
       "</table>\n",
       "</div>"
      ],
      "text/plain": [
       "   time_sec    rad_vel\n",
       "0         0 -74.859265\n",
       "1     25000 -64.826428\n",
       "2     50000 -54.936557\n",
       "3     75000 -45.938719\n",
       "4    100000 -38.469294"
      ]
     },
     "execution_count": 2,
     "metadata": {},
     "output_type": "execute_result"
    }
   ],
   "source": [
    "doppler = pd.read_csv(\"Prob3_Doppler.csv\")\n",
    "doppler.head()"
   ]
  },
  {
   "cell_type": "code",
   "execution_count": 3,
   "metadata": {},
   "outputs": [
    {
     "data": {
      "text/html": [
       "<div>\n",
       "<style scoped>\n",
       "    .dataframe tbody tr th:only-of-type {\n",
       "        vertical-align: middle;\n",
       "    }\n",
       "\n",
       "    .dataframe tbody tr th {\n",
       "        vertical-align: top;\n",
       "    }\n",
       "\n",
       "    .dataframe thead th {\n",
       "        text-align: right;\n",
       "    }\n",
       "</style>\n",
       "<table border=\"1\" class=\"dataframe\">\n",
       "  <thead>\n",
       "    <tr style=\"text-align: right;\">\n",
       "      <th></th>\n",
       "      <th>time_sec</th>\n",
       "      <th>norm_bright</th>\n",
       "    </tr>\n",
       "  </thead>\n",
       "  <tbody>\n",
       "    <tr>\n",
       "      <th>0</th>\n",
       "      <td>40000</td>\n",
       "      <td>1.000156</td>\n",
       "    </tr>\n",
       "    <tr>\n",
       "      <th>1</th>\n",
       "      <td>59500</td>\n",
       "      <td>1.000071</td>\n",
       "    </tr>\n",
       "    <tr>\n",
       "      <th>2</th>\n",
       "      <td>63500</td>\n",
       "      <td>1.000598</td>\n",
       "    </tr>\n",
       "    <tr>\n",
       "      <th>3</th>\n",
       "      <td>80500</td>\n",
       "      <td>1.000075</td>\n",
       "    </tr>\n",
       "    <tr>\n",
       "      <th>4</th>\n",
       "      <td>92500</td>\n",
       "      <td>1.000400</td>\n",
       "    </tr>\n",
       "  </tbody>\n",
       "</table>\n",
       "</div>"
      ],
      "text/plain": [
       "   time_sec  norm_bright\n",
       "0     40000     1.000156\n",
       "1     59500     1.000071\n",
       "2     63500     1.000598\n",
       "3     80500     1.000075\n",
       "4     92500     1.000400"
      ]
     },
     "execution_count": 3,
     "metadata": {},
     "output_type": "execute_result"
    }
   ],
   "source": [
    "transit  = pd.read_csv(\"Prob3_Transit.csv\")\n",
    "transit.head()"
   ]
  },
  {
   "cell_type": "markdown",
   "metadata": {},
   "source": [
    " \"\"\"\n",
    "    Calculates the radial velocity of the star due to a planet's orbit.\n",
    "    \n",
    "    Parameters:\n",
    "    t (array): array of times\n",
    "    P (float): period of the planet's orbit\n",
    "    K (float): amplitude of the radial velocity curve\n",
    "    e (float): eccentricity of the planet's orbit\n",
    "    omega (float): argument of periastron\n",
    "    tp (float): time of periastron passage\n",
    "    \n",
    "    Returns:\n",
    "    arr"
   ]
  },
  {
   "cell_type": "code",
   "execution_count": 4,
   "metadata": {},
   "outputs": [],
   "source": [
    "def rad_vel_model(t,P,K,e,omega,tp):\n",
    "    n = 2*np.pi/P\n",
    "    M = n*(t - tp)\n",
    "    E = solve_kepler(M, e)\n",
    "    nu = 2*np.arctan(np.sqrt((1+e)/(1-e))*np.tan(E/2))\n",
    "    return K*(np.cos(nu + omega) + e*np.cos(omega))"
   ]
  },
  {
   "attachments": {},
   "cell_type": "markdown",
   "metadata": {},
   "source": [
    "\"\"\"\n",
    "    Solves Kepler's equation for eccentric anomaly.\n",
    "    \n",
    "    Parameters:\n",
    "    M (array): mean anomaly\n",
    "    e (float): eccentricity\n",
    "    \n",
    "    Returns:\n",
    "    array: eccentric anomaly\n",
    "    \"\"\""
   ]
  },
  {
   "cell_type": "code",
   "execution_count": 5,
   "metadata": {},
   "outputs": [],
   "source": [
    "def solve_kepler(M, e):\n",
    "    def f(E):\n",
    "        return E - e*np.sin(E) - M\n",
    "    E = np.zeros_like(M)\n",
    "    for i, m in enumerate(M):\n",
    "        E[i] = minimize(f, m).x[0]\n",
    "    return E"
   ]
  },
  {
   "attachments": {},
   "cell_type": "markdown",
   "metadata": {},
   "source": [
    "\"\"\"\n",
    "    Calculates the model transit light curve.\n",
    "    \n",
    "    Parameters:\n",
    "    t (array): array of times\n",
    "    P (float): period of the planet's orbit\n",
    "    Rp (float): planet radius in units of stellar radius\n",
    "    a (float): semi-major axis of the planet's orbit in units of stellar radius\n",
    "    inc (float): inclination of the planet's orbit in degrees\n",
    "    t0 (float): time of center of transit\n",
    "    \n",
    "    Returns:\n",
    "    array: transit light curve at the times in t\n",
    "    \"\"\""
   ]
  },
  {
   "cell_type": "code",
   "execution_count": 6,
   "metadata": {},
   "outputs": [],
   "source": [
    "def transit_model(t, P, Rp, a, inc, t0):\n",
    "    b = a*np.cos(np.deg2rad(inc))\n",
    "    c = (Rp**2) / ((1-b)**2)\n",
    "    f = lambda x: (1 - np.sqrt(c - ((x - b)**2))) * np.where(np.abs(x - b) < 1+1e-8, 1, 0)\n",
    "    phase = ((t - t0) / P) % 1\n",
    "    return np.array(list(map(f, phase)))"
   ]
  },
  {
   "cell_type": "code",
   "execution_count": 8,
   "metadata": {},
   "outputs": [
    {
     "ename": "ModuleNotFoundError",
     "evalue": "No module named 'astropy'",
     "output_type": "error",
     "traceback": [
      "\u001b[1;31m---------------------------------------------------------------------------\u001b[0m",
      "\u001b[1;31mModuleNotFoundError\u001b[0m                       Traceback (most recent call last)",
      "Cell \u001b[1;32mIn[8], line 1\u001b[0m\n\u001b[1;32m----> 1\u001b[0m \u001b[39mfrom\u001b[39;00m \u001b[39mastropy\u001b[39;00m\u001b[39m.\u001b[39;00m\u001b[39mtimeseries\u001b[39;00m \u001b[39mimport\u001b[39;00m LombScargle\n\u001b[0;32m      3\u001b[0m frequencies, power \u001b[39m=\u001b[39m LombScargle(doppler_data[\u001b[39m'\u001b[39m\u001b[39mtime_sec\u001b[39m\u001b[39m'\u001b[39m], doppler_data[\u001b[39m'\u001b[39m\u001b[39mrad_vel\u001b[39m\u001b[39m'\u001b[39m])\u001b[39m.\u001b[39mautopower()\n\u001b[0;32m      4\u001b[0m periods \u001b[39m=\u001b[39m \u001b[39m1\u001b[39m \u001b[39m/\u001b[39m frequencies[np\u001b[39m.\u001b[39margmax(power)]\n",
      "\u001b[1;31mModuleNotFoundError\u001b[0m: No module named 'astropy'"
     ]
    }
   ],
   "source": [
    "from astropy.timeseries import LombScargle\n",
    "\n",
    "frequencies, power = LombScargle(doppler_data['time_sec'], doppler_data['rad_vel']).autopower()\n",
    "periods = 1 / frequencies[np.argmax(power)]"
   ]
  },
  {
   "cell_type": "code",
   "execution_count": 9,
   "metadata": {},
   "outputs": [
    {
     "data": {
      "image/png": "[encoded data removed]",
      "text/plain": [
       "<Figure size 640x480 with 1 Axes>"
      ]
     },
     "metadata": {},
     "output_type": "display_data"
    }
   ],
   "source": [
    "import matplotlib.pyplot as plt\n",
    "import pandas as pd\n",
    "\n",
    "transit_data = pd.read_csv('Prob3_Transit.csv')\n",
    "\n",
    "plt.plot(transit_data['time_sec'], transit_data['norm_bright'])\n",
    "plt.xlabel('Time (s)')\n",
    "plt.ylabel('Normalized Brightness')\n",
    "plt.show()\n"
   ]
  },
  {
   "cell_type": "code",
   "execution_count": 11,
   "metadata": {},
   "outputs": [
    {
     "ename": "KeyError",
     "evalue": "'time_sec_1'",
     "output_type": "error",
     "traceback": [
      "\u001b[1;31m---------------------------------------------------------------------------\u001b[0m",
      "\u001b[1;31mKeyError\u001b[0m                                  Traceback (most recent call last)",
      "File \u001b[1;32mc:\\Users\\shouv\\AppData\\Local\\Programs\\Python\\Python311\\Lib\\site-packages\\pandas\\core\\indexes\\base.py:3802\u001b[0m, in \u001b[0;36mIndex.get_loc\u001b[1;34m(self, key, method, tolerance)\u001b[0m\n\u001b[0;32m   3801\u001b[0m \u001b[39mtry\u001b[39;00m:\n\u001b[1;32m-> 3802\u001b[0m     \u001b[39mreturn\u001b[39;00m \u001b[39mself\u001b[39;49m\u001b[39m.\u001b[39;49m_engine\u001b[39m.\u001b[39;49mget_loc(casted_key)\n\u001b[0;32m   3803\u001b[0m \u001b[39mexcept\u001b[39;00m \u001b[39mKeyError\u001b[39;00m \u001b[39mas\u001b[39;00m err:\n",
      "File \u001b[1;32mc:\\Users\\shouv\\AppData\\Local\\Programs\\Python\\Python311\\Lib\\site-packages\\pandas\\_libs\\index.pyx:138\u001b[0m, in \u001b[0;36mpandas._libs.index.IndexEngine.get_loc\u001b[1;34m()\u001b[0m\n",
      "File \u001b[1;32mc:\\Users\\shouv\\AppData\\Local\\Programs\\Python\\Python311\\Lib\\site-packages\\pandas\\_libs\\index.pyx:165\u001b[0m, in \u001b[0;36mpandas._libs.index.IndexEngine.get_loc\u001b[1;34m()\u001b[0m\n",
      "File \u001b[1;32mpandas\\_libs\\hashtable_class_helper.pxi:5745\u001b[0m, in \u001b[0;36mpandas._libs.hashtable.PyObjectHashTable.get_item\u001b[1;34m()\u001b[0m\n",
      "File \u001b[1;32mpandas\\_libs\\hashtable_class_helper.pxi:5753\u001b[0m, in \u001b[0;36mpandas._libs.hashtable.PyObjectHashTable.get_item\u001b[1;34m()\u001b[0m\n",
      "\u001b[1;31mKeyError\u001b[0m: 'time_sec_1'",
      "\nThe above exception was the direct cause of the following exception:\n",
      "\u001b[1;31mKeyError\u001b[0m                                  Traceback (most recent call last)",
      "Cell \u001b[1;32mIn[11], line 17\u001b[0m\n\u001b[0;32m     15\u001b[0m masses \u001b[39m=\u001b[39m []\n\u001b[0;32m     16\u001b[0m \u001b[39mfor\u001b[39;00m i \u001b[39min\u001b[39;00m \u001b[39mrange\u001b[39m(\u001b[39m1\u001b[39m, \u001b[39m3\u001b[39m):\n\u001b[1;32m---> 17\u001b[0m     T \u001b[39m=\u001b[39m transit_data[\u001b[39mf\u001b[39;49m\u001b[39m'\u001b[39;49m\u001b[39mtime_sec_\u001b[39;49m\u001b[39m{\u001b[39;49;00mi\u001b[39m}\u001b[39;49;00m\u001b[39m'\u001b[39;49m]\u001b[39m.\u001b[39mmean() \u001b[39m-\u001b[39m transit_data[\u001b[39mf\u001b[39m\u001b[39m'\u001b[39m\u001b[39mtime_sec_\u001b[39m\u001b[39m{\u001b[39;00mi\u001b[39m-\u001b[39m\u001b[39m1\u001b[39m\u001b[39m}\u001b[39;00m\u001b[39m'\u001b[39m]\u001b[39m.\u001b[39mmean()\n\u001b[0;32m     18\u001b[0m     a \u001b[39m=\u001b[39m ((G \u001b[39m*\u001b[39m M_star \u001b[39m*\u001b[39m T\u001b[39m*\u001b[39m\u001b[39m*\u001b[39m\u001b[39m2\u001b[39m) \u001b[39m/\u001b[39m (\u001b[39m4\u001b[39m \u001b[39m*\u001b[39m np\u001b[39m.\u001b[39mpi\u001b[39m*\u001b[39m\u001b[39m*\u001b[39m\u001b[39m2\u001b[39m))\u001b[39m*\u001b[39m\u001b[39m*\u001b[39m(\u001b[39m1\u001b[39m\u001b[39m/\u001b[39m\u001b[39m3\u001b[39m)\n\u001b[0;32m     19\u001b[0m     m \u001b[39m=\u001b[39m ((v_star \u001b[39m*\u001b[39m T \u001b[39m*\u001b[39m M_star)\u001b[39m*\u001b[39m\u001b[39m*\u001b[39m\u001b[39m2\u001b[39m \u001b[39m*\u001b[39m a) \u001b[39m/\u001b[39m (G \u001b[39m*\u001b[39m R_star)\n",
      "File \u001b[1;32mc:\\Users\\shouv\\AppData\\Local\\Programs\\Python\\Python311\\Lib\\site-packages\\pandas\\core\\frame.py:3807\u001b[0m, in \u001b[0;36mDataFrame.__getitem__\u001b[1;34m(self, key)\u001b[0m\n\u001b[0;32m   3805\u001b[0m \u001b[39mif\u001b[39;00m \u001b[39mself\u001b[39m\u001b[39m.\u001b[39mcolumns\u001b[39m.\u001b[39mnlevels \u001b[39m>\u001b[39m \u001b[39m1\u001b[39m:\n\u001b[0;32m   3806\u001b[0m     \u001b[39mreturn\u001b[39;00m \u001b[39mself\u001b[39m\u001b[39m.\u001b[39m_getitem_multilevel(key)\n\u001b[1;32m-> 3807\u001b[0m indexer \u001b[39m=\u001b[39m \u001b[39mself\u001b[39;49m\u001b[39m.\u001b[39;49mcolumns\u001b[39m.\u001b[39;49mget_loc(key)\n\u001b[0;32m   3808\u001b[0m \u001b[39mif\u001b[39;00m is_integer(indexer):\n\u001b[0;32m   3809\u001b[0m     indexer \u001b[39m=\u001b[39m [indexer]\n",
      "File \u001b[1;32mc:\\Users\\shouv\\AppData\\Local\\Programs\\Python\\Python311\\Lib\\site-packages\\pandas\\core\\indexes\\base.py:3804\u001b[0m, in \u001b[0;36mIndex.get_loc\u001b[1;34m(self, key, method, tolerance)\u001b[0m\n\u001b[0;32m   3802\u001b[0m     \u001b[39mreturn\u001b[39;00m \u001b[39mself\u001b[39m\u001b[39m.\u001b[39m_engine\u001b[39m.\u001b[39mget_loc(casted_key)\n\u001b[0;32m   3803\u001b[0m \u001b[39mexcept\u001b[39;00m \u001b[39mKeyError\u001b[39;00m \u001b[39mas\u001b[39;00m err:\n\u001b[1;32m-> 3804\u001b[0m     \u001b[39mraise\u001b[39;00m \u001b[39mKeyError\u001b[39;00m(key) \u001b[39mfrom\u001b[39;00m \u001b[39merr\u001b[39;00m\n\u001b[0;32m   3805\u001b[0m \u001b[39mexcept\u001b[39;00m \u001b[39mTypeError\u001b[39;00m:\n\u001b[0;32m   3806\u001b[0m     \u001b[39m# If we have a listlike key, _check_indexing_error will raise\u001b[39;00m\n\u001b[0;32m   3807\u001b[0m     \u001b[39m#  InvalidIndexError. Otherwise we fall through and re-raise\u001b[39;00m\n\u001b[0;32m   3808\u001b[0m     \u001b[39m#  the TypeError.\u001b[39;00m\n\u001b[0;32m   3809\u001b[0m     \u001b[39mself\u001b[39m\u001b[39m.\u001b[39m_check_indexing_error(key)\n",
      "\u001b[1;31mKeyError\u001b[0m: 'time_sec_1'"
     ]
    }
   ],
   "source": [
    "import numpy as np\n",
    "\n",
    "# Define constants\n",
    "G = 6.6743e-11 # Gravitational constant\n",
    "M_star = 1.9885e30 # Mass of the star (kg)\n",
    "R_star = 695700e3 # Radius of the star (m)\n",
    "\n",
    "# Load Doppler data\n",
    "doppler_data = pd.read_csv('Prob3_Doppler.csv')\n",
    "\n",
    "# Calculate radial velocity of the star\n",
    "v_star = doppler_data['rad_vel'].mean()\n",
    "\n",
    "# Calculate mass of each planet\n",
    "masses = []\n",
    "for i in range(1, 3):\n",
    "    T = transit_data[f'time_sec_{i}'].mean() - transit_data[f'time_sec_{i-1}'].mean()\n",
    "    a = ((G * M_star * T**2) / (4 * np.pi**2))**(1/3)\n",
    "    m = ((v_star * T * M_star)**2 * a) / (G * R_star)\n",
    "    masses.append(m)\n",
    "\n",
    "print(f'Number of planets: {len(masses)}')\n",
    "print(f'Mass of planet 1: {masses[0]:.2e}')\n"
   ]
  },
  {
   "cell_type": "code",
   "execution_count": null,
   "metadata": {},
   "outputs": [],
   "source": [
    "import numpy as np\n",
    "import pandas as pd\n",
    "import matplotlib.pyplot as plt\n",
    "\n",
    "# Load Doppler data\n",
    "df_doppler = pd.read_csv('Prob3_Doppler.csv')\n",
    "\n",
    "# Calculate planet's period from dominant frequency of power spectrum\n",
    "fft = np.fft.fft(df_doppler['rad_vel'])\n",
    "power_spectrum = np.abs(fft)**2\n",
    "freq = np.fft.fftfreq(len(df_doppler['time_sec']))\n",
    "num_frequencies = 3\n",
    "sorted_power = np.argsort(power_spectrum)[::-1]\n",
    "dominant_frequencies = freq[sorted_power][:num_frequencies]\n",
    "period_planet = 1 / dominant_frequencies[0]\n",
    "\n",
    "# Load transit data\n",
    "df_transit = pd.read_csv('Prob3_Transit.csv')\n",
    "\n",
    "# Find times of transits\n",
    "threshold = 0.9  # brightness threshold for identifying transits\n",
    "transit_times = df_transit['time_sec'][df_transit['brightness'] < threshold]\n",
    "\n",
    "# Calculate period of planet's orbit from time between transits\n",
    "period_star = np.mean(np.diff(transit_times))\n",
    "\n",
    "# Calculate ratio of periods\n",
    "period_ratio = period_planet / period_star\n",
    "\n",
    "# Calculate semi-major axis of planet's orbit\n",
    "G = 6.67430e-11  # gravitational constant in m^3/kg/s^2\n",
    "M_star = 1.9885e30  # mass of star in kg\n",
    "R_star = 679500000  # radius of star in meters\n",
    "semi_major_axis = (G * M_star * (period_star / (2 * np.pi))**2)**(1/3)\n",
    "\n",
    "# Calculate mass function\n",
    "K = np.max(df_doppler['rad_vel'])  # amplitude of Doppler signal\n",
    "mass_function = (K * semi_major_axis * (1 - np.sin(np.pi/2) ** 2))**3 / (2 * np.pi * G)\n",
    "\n",
    "# Calculate mass of planet\n",
    "mass_planet = mass_function / np.sin(np.pi/2)\n",
    "\n",
    "# Print results\n",
    "print(f\"Planet's period from Doppler data: {period_planet} seconds\")\n",
    "print(f\"Planet's period from transit data: {period_star} seconds\")\n",
    "print(f\"Ratio of periods: {period_ratio}\")\n",
    "print(f\"Semi-major axis: {semi_major_axis} meters\")\n",
    "print(f\"Mass function: {mass_function} kg\")\n",
    "print(f\"Planet's mass: {mass_planet} kg\")\n"
   ]
  }
 ],
 "metadata": {
  "kernelspec": {
   "display_name": "Python 3",
   "language": "python",
   "name": "python3"
  },
  "language_info": {
   "codemirror_mode": {
    "name": "ipython",
    "version": 3
   },
   "file_extension": ".py",
   "mimetype": "text/x-python",
   "name": "python",
   "nbconvert_exporter": "python",
   "pygments_lexer": "ipython3",
   "version": "3.11.2"
  },
  "orig_nbformat": 4
 },
 "nbformat": 4,
 "nbformat_minor": 2
}
